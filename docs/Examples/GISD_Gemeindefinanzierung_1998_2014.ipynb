{
 "cells": [
  {
   "cell_type": "markdown",
   "metadata": {},
   "source": [
    "# Sozioökonomische Deprivation als Prädiktor für das Steueraufkommen der Gemeinden zwischen 1998 und 2014\n",
    "## Ziel\n",
    "Mit diesem Notebook wird analysiert, inwiefern sich sozioökonomische Deprivation als Prädiktor für das Steueraufkommen der Gemeinden eignet. Um die [Nachvollziehbarkeit](http://ropensci.github.io/reproducibility-guide/sections/introduction/) der Einschätzung zur verbessern das Ergebnis als Notebook bereitgestellt.\n",
    "\n",
    "## Statistische Analysen\n",
    "Die Analysen werden mit dem freien Programmpaket [R](https://www.r-project.org/) durchgeführt. Alle Schritte werden erläutert."
   ]
  },
  {
   "cell_type": "code",
   "execution_count": 96,
   "metadata": {
    "collapsed": false
   },
   "outputs": [],
   "source": [
    "# Working Directory\n",
    "setwd(\"~/Notebooks\")\n",
    "\n",
    "# Libraries provided for reproducability\n",
    "library(\"tidyverse\",quiet=T)\n",
    "library(\"haven\")\n",
    "library(\"viridis\")\n",
    "\n",
    "# Options for Graphic Output\n",
    "options(repr.plot.width=6, repr.plot.height=3.375)"
   ]
  },
  {
   "cell_type": "markdown",
   "metadata": {},
   "source": [
    "# Datenquellen\n",
    "## Gemeindefinanzen: INKAR\n",
    "Die verwendeten Daten zur Gemeindefinanzierung stammen aus der [INKAR-Online Datenbank](http://www.inkar.de) des Bundesinstitut für Bau-, Stadt- und Raumforschung (BBSR) im Bundesamt für Bauwesen und Raumordnung (BBR). Sie sind frei zugänglich und können auf Ebene der Gemeindeverbände für den Zeitraum 1995 bis 2015 *(Stand: 5.6.2018)* bezogen werden."
   ]
  },
  {
   "cell_type": "code",
   "execution_count": 97,
   "metadata": {
    "collapsed": false,
    "scrolled": true
   },
   "outputs": [
    {
     "data": {
      "text/html": [
       "<table>\n",
       "<thead><tr><th scope=col>Kennziffer_Gemeindeverband</th><th scope=col>Name</th><th scope=col>Typ</th><th scope=col>Jahr</th><th scope=col>Steuereinnahmen_pro_EW</th></tr></thead>\n",
       "<tbody>\n",
       "\t<tr><td>1001000               </td><td>Flensburg, Stadt      </td><td>Gemeinde              </td><td>1995                  </td><td>469.0                 </td></tr>\n",
       "\t<tr><td>1002000               </td><td>Kiel, Landeshauptstadt</td><td>Gemeinde              </td><td>1995                  </td><td>476.2                 </td></tr>\n",
       "\t<tr><td>1003000               </td><td>Lübeck, Hansestadt    </td><td>Gemeinde              </td><td>1995                  </td><td>471.9                 </td></tr>\n",
       "\t<tr><td>1004000               </td><td>Neumünster, Stadt     </td><td>Gemeinde              </td><td>1995                  </td><td>447.9                 </td></tr>\n",
       "\t<tr><td>1051011               </td><td>Brunsbüttel, Stadt    </td><td>Gemeinde              </td><td>1995                  </td><td>606.5                 </td></tr>\n",
       "\t<tr><td>1051044               </td><td>Heide, Stadt          </td><td>Gemeinde              </td><td>1995                  </td><td>467.3                 </td></tr>\n",
       "</tbody>\n",
       "</table>\n"
      ],
      "text/latex": [
       "\\begin{tabular}{r|lllll}\n",
       " Kennziffer\\_Gemeindeverband & Name & Typ & Jahr & Steuereinnahmen\\_pro\\_EW\\\\\n",
       "\\hline\n",
       "\t 1001000                & Flensburg, Stadt       & Gemeinde               & 1995                   & 469.0                 \\\\\n",
       "\t 1002000                & Kiel, Landeshauptstadt & Gemeinde               & 1995                   & 476.2                 \\\\\n",
       "\t 1003000                & Lübeck, Hansestadt     & Gemeinde               & 1995                   & 471.9                 \\\\\n",
       "\t 1004000                & Neumünster, Stadt      & Gemeinde               & 1995                   & 447.9                 \\\\\n",
       "\t 1051011                & Brunsbüttel, Stadt     & Gemeinde               & 1995                   & 606.5                 \\\\\n",
       "\t 1051044                & Heide, Stadt           & Gemeinde               & 1995                   & 467.3                 \\\\\n",
       "\\end{tabular}\n"
      ],
      "text/markdown": [
       "\n",
       "Kennziffer_Gemeindeverband | Name | Typ | Jahr | Steuereinnahmen_pro_EW | \n",
       "|---|---|---|---|---|---|\n",
       "| 1001000                | Flensburg, Stadt       | Gemeinde               | 1995                   | 469.0                  | \n",
       "| 1002000                | Kiel, Landeshauptstadt | Gemeinde               | 1995                   | 476.2                  | \n",
       "| 1003000                | Lübeck, Hansestadt     | Gemeinde               | 1995                   | 471.9                  | \n",
       "| 1004000                | Neumünster, Stadt      | Gemeinde               | 1995                   | 447.9                  | \n",
       "| 1051011                | Brunsbüttel, Stadt     | Gemeinde               | 1995                   | 606.5                  | \n",
       "| 1051044                | Heide, Stadt           | Gemeinde               | 1995                   | 467.3                  | \n",
       "\n",
       "\n"
      ],
      "text/plain": [
       "  Kennziffer_Gemeindeverband Name                   Typ      Jahr\n",
       "1 1001000                    Flensburg, Stadt       Gemeinde 1995\n",
       "2 1002000                    Kiel, Landeshauptstadt Gemeinde 1995\n",
       "3 1003000                    Lübeck, Hansestadt     Gemeinde 1995\n",
       "4 1004000                    Neumünster, Stadt      Gemeinde 1995\n",
       "5 1051011                    Brunsbüttel, Stadt     Gemeinde 1995\n",
       "6 1051044                    Heide, Stadt           Gemeinde 1995\n",
       "  Steuereinnahmen_pro_EW\n",
       "1 469.0                 \n",
       "2 476.2                 \n",
       "3 471.9                 \n",
       "4 447.9                 \n",
       "5 606.5                 \n",
       "6 467.3                 "
      ]
     },
     "metadata": {},
     "output_type": "display_data"
    }
   ],
   "source": [
    "# Finanzen\n",
    "options(warn=-1)\n",
    "Gemeindefinanzen <- suppressMessages(read_delim(\"data/Gemeindefinanzen_1995_2015.csv\",\";\", escape_double = FALSE, locale = locale(date_names = \"de\",\n",
    "decimal_mark = \",\"), trim_ws = TRUE, skip = 1))\n",
    "Gemeindefinanzen <- Gemeindefinanzen %>%  rename(Kennziffer_Gemeindeverband=X1,Name=X2,Typ=X3) %>% gather(Jahr,Steuereinnahmen_pro_EW,4:24) %>% \n",
    "  mutate(Jahr=as.numeric(Jahr), Kennziffer_Gemeindeverband=as.numeric(Kennziffer_Gemeindeverband))\n",
    "options(warn=0)\n",
    "head(Gemeindefinanzen)"
   ]
  },
  {
   "cell_type": "markdown",
   "metadata": {},
   "source": [
    "## Sozioökonomische Deprivation: German Index auf Deprivation (GISD)\n",
    "Für Deutschland sind regionale Unterschiede für verschiedene Gesundheitsindikatoren dokumentiert, die auch mit sozioökonomischen Unterschieden assoziiert sind. Der „German Index of Socioeconomic Deprivation“ (GISD) wird auf Ebene der Gemeindeverbände, der Landkreise und kreisfreien Städte sowie der Regierungsbezirke ab 1998 generiert. Er ist mit Aggregatdaten sowie Individualdaten der Studie Gesundheit in Deutschland assoziiert und wird für die Nutzung in der Forschung und Gesundheitsberichterstattung des Bundes und der Länder bereitgestellt. Er soll dazu beitragen, neue Datenquellen für die Analyse des Zusammenhangs von sozialer Ungleichheit und Gesundheit zu erschließen. Der Index kann [hier heruntergeladen werden](http://lekroll.github.io/GISD), nähere Informationen zur Indexkonstruktion sind [hier](https://edoc.rki.de/handle/176904/2648) verfügbar."
   ]
  },
  {
   "cell_type": "code",
   "execution_count": 103,
   "metadata": {
    "collapsed": false,
    "scrolled": true
   },
   "outputs": [
    {
     "data": {
      "text/html": [
       "<table>\n",
       "<thead><tr><th scope=col>Kennziffer_Gemeindeverband</th><th scope=col>Name_Gemeindeverband</th><th scope=col>Jahr</th><th scope=col>Bevoelkerung</th><th scope=col>GISD_Score</th><th scope=col>GISD_5</th><th scope=col>GISD_10</th><th scope=col>GISD_k</th></tr></thead>\n",
       "<tbody>\n",
       "\t<tr><td>1001000         </td><td>Flensburg, Stadt</td><td>1998            </td><td>84694           </td><td>0.856489        </td><td>5               </td><td>10              </td><td>3               </td></tr>\n",
       "\t<tr><td>1001000         </td><td>Flensburg, Stadt</td><td>1999            </td><td>84694           </td><td>0.834273        </td><td>5               </td><td>10              </td><td>3               </td></tr>\n",
       "\t<tr><td>1001000         </td><td>Flensburg, Stadt</td><td>2000            </td><td>84694           </td><td>0.764017        </td><td>5               </td><td> 9              </td><td>3               </td></tr>\n",
       "\t<tr><td>1001000         </td><td>Flensburg, Stadt</td><td>2001            </td><td>84694           </td><td>0.713020        </td><td>5               </td><td> 9              </td><td>3               </td></tr>\n",
       "\t<tr><td>1001000         </td><td>Flensburg, Stadt</td><td>2002            </td><td>84694           </td><td>0.769248        </td><td>5               </td><td> 9              </td><td>3               </td></tr>\n",
       "\t<tr><td>1001000         </td><td>Flensburg, Stadt</td><td>2003            </td><td>84694           </td><td>0.742066        </td><td>5               </td><td> 9              </td><td>3               </td></tr>\n",
       "</tbody>\n",
       "</table>\n"
      ],
      "text/latex": [
       "\\begin{tabular}{r|llllllll}\n",
       " Kennziffer\\_Gemeindeverband & Name\\_Gemeindeverband & Jahr & Bevoelkerung & GISD\\_Score & GISD\\_5 & GISD\\_10 & GISD\\_k\\\\\n",
       "\\hline\n",
       "\t 1001000          & Flensburg, Stadt & 1998             & 84694            & 0.856489         & 5                & 10               & 3               \\\\\n",
       "\t 1001000          & Flensburg, Stadt & 1999             & 84694            & 0.834273         & 5                & 10               & 3               \\\\\n",
       "\t 1001000          & Flensburg, Stadt & 2000             & 84694            & 0.764017         & 5                &  9               & 3               \\\\\n",
       "\t 1001000          & Flensburg, Stadt & 2001             & 84694            & 0.713020         & 5                &  9               & 3               \\\\\n",
       "\t 1001000          & Flensburg, Stadt & 2002             & 84694            & 0.769248         & 5                &  9               & 3               \\\\\n",
       "\t 1001000          & Flensburg, Stadt & 2003             & 84694            & 0.742066         & 5                &  9               & 3               \\\\\n",
       "\\end{tabular}\n"
      ],
      "text/markdown": [
       "\n",
       "Kennziffer_Gemeindeverband | Name_Gemeindeverband | Jahr | Bevoelkerung | GISD_Score | GISD_5 | GISD_10 | GISD_k | \n",
       "|---|---|---|---|---|---|\n",
       "| 1001000          | Flensburg, Stadt | 1998             | 84694            | 0.856489         | 5                | 10               | 3                | \n",
       "| 1001000          | Flensburg, Stadt | 1999             | 84694            | 0.834273         | 5                | 10               | 3                | \n",
       "| 1001000          | Flensburg, Stadt | 2000             | 84694            | 0.764017         | 5                |  9               | 3                | \n",
       "| 1001000          | Flensburg, Stadt | 2001             | 84694            | 0.713020         | 5                |  9               | 3                | \n",
       "| 1001000          | Flensburg, Stadt | 2002             | 84694            | 0.769248         | 5                |  9               | 3                | \n",
       "| 1001000          | Flensburg, Stadt | 2003             | 84694            | 0.742066         | 5                |  9               | 3                | \n",
       "\n",
       "\n"
      ],
      "text/plain": [
       "  Kennziffer_Gemeindeverband Name_Gemeindeverband Jahr Bevoelkerung GISD_Score\n",
       "1 1001000                    Flensburg, Stadt     1998 84694        0.856489  \n",
       "2 1001000                    Flensburg, Stadt     1999 84694        0.834273  \n",
       "3 1001000                    Flensburg, Stadt     2000 84694        0.764017  \n",
       "4 1001000                    Flensburg, Stadt     2001 84694        0.713020  \n",
       "5 1001000                    Flensburg, Stadt     2002 84694        0.769248  \n",
       "6 1001000                    Flensburg, Stadt     2003 84694        0.742066  \n",
       "  GISD_5 GISD_10 GISD_k\n",
       "1 5      10      3     \n",
       "2 5      10      3     \n",
       "3 5       9      3     \n",
       "4 5       9      3     \n",
       "5 5       9      3     \n",
       "6 5       9      3     "
      ]
     },
     "metadata": {},
     "output_type": "display_data"
    }
   ],
   "source": [
    "# GISD in Stata long format dataset\n",
    "download.file(\"https://github.com/lekroll/GISD/blob/master/Revisions/2018/Bund/Gemeindeverband/Gemeindeverband_long.dta?raw=true\",\n",
    "              \"data/Gemeindeverband_long.dta\",mode = \"wb\")\n",
    "GISD <- read_dta(\"data/Gemeindeverband_long.dta\") %>%\n",
    "        mutate(Kennziffer_Gemeindeverband= as.numeric(as.character(Kennziffer_Gemeindeverband)), Jahr=as.numeric(as.character(Jahr)))\n",
    "head(GISD)"
   ]
  },
  {
   "cell_type": "markdown",
   "metadata": {},
   "source": [
    "## Zusammenspielen der Datensätze\n",
    "Die Daten von INKAR lassen sich mit dem GISD anhand der Zugehörigen Regionalkennziffer zusammenführen. Hierfür müssen die Bezeichnung der Schlüsselvariable in beiden Datensätzen und der Datentyp der Schlüsselvariable (numerisch oder Zeichen) ggf. vereinheitlicht werden."
   ]
  },
  {
   "cell_type": "code",
   "execution_count": 99,
   "metadata": {
    "collapsed": false
   },
   "outputs": [
    {
     "data": {
      "text/html": [
       "<table>\n",
       "<thead><tr><th scope=col>Kennziffer_Gemeindeverband</th><th scope=col>Name</th><th scope=col>Typ</th><th scope=col>Jahr</th><th scope=col>Steuereinnahmen_pro_EW</th><th scope=col>Name_Gemeindeverband</th><th scope=col>Bevoelkerung</th><th scope=col>GISD_Score</th><th scope=col>GISD_5</th><th scope=col>GISD_10</th><th scope=col>GISD_k</th></tr></thead>\n",
       "<tbody>\n",
       "\t<tr><td>1001000               </td><td>Flensburg, Stadt      </td><td>Gemeinde              </td><td>1998                  </td><td> 524.7                </td><td>Flensburg, Stadt      </td><td> 84694                </td><td>0.856489              </td><td>5                     </td><td>10                    </td><td>3                     </td></tr>\n",
       "\t<tr><td>1002000               </td><td>Kiel, Landeshauptstadt</td><td>Gemeinde              </td><td>1998                  </td><td> 588.0                </td><td>Kiel, Landeshauptstadt</td><td>243148                </td><td>0.729595              </td><td>5                     </td><td> 9                    </td><td>3                     </td></tr>\n",
       "\t<tr><td>1003000               </td><td>Lübeck, Hansestadt    </td><td>Gemeinde              </td><td>1998                  </td><td> 473.5                </td><td>Lübeck, Hansestadt    </td><td>214420                </td><td>0.845004              </td><td>5                     </td><td>10                    </td><td>3                     </td></tr>\n",
       "\t<tr><td>1004000               </td><td>Neumünster, Stadt     </td><td>Gemeinde              </td><td>1998                  </td><td> 495.6                </td><td>Neumünster, Stadt     </td><td> 77588                </td><td>0.940591              </td><td>5                     </td><td>10                    </td><td>3                     </td></tr>\n",
       "\t<tr><td>1051011               </td><td>Brunsbüttel, Stadt    </td><td>Gemeinde              </td><td>1998                  </td><td>1049.7                </td><td>Brunsbüttel, Stadt    </td><td> 12642                </td><td>0.790742              </td><td>5                     </td><td> 9                    </td><td>3                     </td></tr>\n",
       "\t<tr><td>1051044               </td><td>Heide, Stadt          </td><td>Gemeinde              </td><td>1998                  </td><td> 545.1                </td><td>Heide, Stadt          </td><td> 21303                </td><td>0.833469              </td><td>5                     </td><td>10                    </td><td>3                     </td></tr>\n",
       "</tbody>\n",
       "</table>\n"
      ],
      "text/latex": [
       "\\begin{tabular}{r|lllllllllll}\n",
       " Kennziffer\\_Gemeindeverband & Name & Typ & Jahr & Steuereinnahmen\\_pro\\_EW & Name\\_Gemeindeverband & Bevoelkerung & GISD\\_Score & GISD\\_5 & GISD\\_10 & GISD\\_k\\\\\n",
       "\\hline\n",
       "\t 1001000                & Flensburg, Stadt       & Gemeinde               & 1998                   &  524.7                 & Flensburg, Stadt       &  84694                 & 0.856489               & 5                      & 10                     & 3                     \\\\\n",
       "\t 1002000                & Kiel, Landeshauptstadt & Gemeinde               & 1998                   &  588.0                 & Kiel, Landeshauptstadt & 243148                 & 0.729595               & 5                      &  9                     & 3                     \\\\\n",
       "\t 1003000                & Lübeck, Hansestadt     & Gemeinde               & 1998                   &  473.5                 & Lübeck, Hansestadt     & 214420                 & 0.845004               & 5                      & 10                     & 3                     \\\\\n",
       "\t 1004000                & Neumünster, Stadt      & Gemeinde               & 1998                   &  495.6                 & Neumünster, Stadt      &  77588                 & 0.940591               & 5                      & 10                     & 3                     \\\\\n",
       "\t 1051011                & Brunsbüttel, Stadt     & Gemeinde               & 1998                   & 1049.7                 & Brunsbüttel, Stadt     &  12642                 & 0.790742               & 5                      &  9                     & 3                     \\\\\n",
       "\t 1051044                & Heide, Stadt           & Gemeinde               & 1998                   &  545.1                 & Heide, Stadt           &  21303                 & 0.833469               & 5                      & 10                     & 3                     \\\\\n",
       "\\end{tabular}\n"
      ],
      "text/markdown": [
       "\n",
       "Kennziffer_Gemeindeverband | Name | Typ | Jahr | Steuereinnahmen_pro_EW | Name_Gemeindeverband | Bevoelkerung | GISD_Score | GISD_5 | GISD_10 | GISD_k | \n",
       "|---|---|---|---|---|---|\n",
       "| 1001000                | Flensburg, Stadt       | Gemeinde               | 1998                   |  524.7                 | Flensburg, Stadt       |  84694                 | 0.856489               | 5                      | 10                     | 3                      | \n",
       "| 1002000                | Kiel, Landeshauptstadt | Gemeinde               | 1998                   |  588.0                 | Kiel, Landeshauptstadt | 243148                 | 0.729595               | 5                      |  9                     | 3                      | \n",
       "| 1003000                | Lübeck, Hansestadt     | Gemeinde               | 1998                   |  473.5                 | Lübeck, Hansestadt     | 214420                 | 0.845004               | 5                      | 10                     | 3                      | \n",
       "| 1004000                | Neumünster, Stadt      | Gemeinde               | 1998                   |  495.6                 | Neumünster, Stadt      |  77588                 | 0.940591               | 5                      | 10                     | 3                      | \n",
       "| 1051011                | Brunsbüttel, Stadt     | Gemeinde               | 1998                   | 1049.7                 | Brunsbüttel, Stadt     |  12642                 | 0.790742               | 5                      |  9                     | 3                      | \n",
       "| 1051044                | Heide, Stadt           | Gemeinde               | 1998                   |  545.1                 | Heide, Stadt           |  21303                 | 0.833469               | 5                      | 10                     | 3                      | \n",
       "\n",
       "\n"
      ],
      "text/plain": [
       "  Kennziffer_Gemeindeverband Name                   Typ      Jahr\n",
       "1 1001000                    Flensburg, Stadt       Gemeinde 1998\n",
       "2 1002000                    Kiel, Landeshauptstadt Gemeinde 1998\n",
       "3 1003000                    Lübeck, Hansestadt     Gemeinde 1998\n",
       "4 1004000                    Neumünster, Stadt      Gemeinde 1998\n",
       "5 1051011                    Brunsbüttel, Stadt     Gemeinde 1998\n",
       "6 1051044                    Heide, Stadt           Gemeinde 1998\n",
       "  Steuereinnahmen_pro_EW Name_Gemeindeverband   Bevoelkerung GISD_Score GISD_5\n",
       "1  524.7                 Flensburg, Stadt        84694       0.856489   5     \n",
       "2  588.0                 Kiel, Landeshauptstadt 243148       0.729595   5     \n",
       "3  473.5                 Lübeck, Hansestadt     214420       0.845004   5     \n",
       "4  495.6                 Neumünster, Stadt       77588       0.940591   5     \n",
       "5 1049.7                 Brunsbüttel, Stadt      12642       0.790742   5     \n",
       "6  545.1                 Heide, Stadt            21303       0.833469   5     \n",
       "  GISD_10 GISD_k\n",
       "1 10      3     \n",
       "2  9      3     \n",
       "3 10      3     \n",
       "4 10      3     \n",
       "5  9      3     \n",
       "6 10      3     "
      ]
     },
     "metadata": {},
     "output_type": "display_data"
    }
   ],
   "source": [
    "Comparison <- left_join(Gemeindefinanzen,GISD,by=c(\"Kennziffer_Gemeindeverband\",\"Jahr\")) %>% filter(!is.na(GISD_Score))\n",
    "Comparison <- Comparison %>% filter(!is.na(GISD_Score) & !is.na(Steuereinnahmen_pro_EW))\n",
    "head(Comparison)"
   ]
  },
  {
   "cell_type": "markdown",
   "metadata": {},
   "source": [
    "# Vergleich von GISD und Gemeindefinanzen\n",
    "Im Folgenden erfolgt zuerst ein graphischer und anschließend ein regressionsbasierter Vergleich.\n",
    "### Graphisch"
   ]
  },
  {
   "cell_type": "code",
   "execution_count": 100,
   "metadata": {
    "collapsed": false,
    "scrolled": true
   },
   "outputs": [
    {
     "data": {},
     "metadata": {},
     "output_type": "display_data"
    },
    {
     "data": {
      "image/png": "[encoded data removed]",
      "text/plain": [
       "plot without title"
      ]
     },
     "metadata": {},
     "output_type": "display_data"
    }
   ],
   "source": [
    "# Comparison \n",
    "ggplot(Comparison,aes(x=GISD_Score,y=Steuereinnahmen_pro_EW, group=Jahr, colour=Jahr)) + \n",
    "geom_smooth(method=\"gam\") + scale_colour_viridis() + theme_minimal() +\n",
    "labs(title=\"Einnahmen pro Einw. (EUR)\", y=\"\", x=\"Regionale Deprivation\")"
   ]
  },
  {
   "cell_type": "markdown",
   "metadata": {},
   "source": [
    "## Korrelation"
   ]
  },
  {
   "cell_type": "code",
   "execution_count": 101,
   "metadata": {
    "collapsed": false
   },
   "outputs": [
    {
     "data": {},
     "metadata": {},
     "output_type": "display_data"
    },
    {
     "data": {
      "image/png": "[encoded data removed]",
      "text/plain": [
       "plot without title"
      ]
     },
     "metadata": {},
     "output_type": "display_data"
    }
   ],
   "source": [
    "ggplot(Comparison %>% group_by(Jahr) %>% summarise(Korrelation = cor(Steuereinnahmen_pro_EW,GISD_Score)),\n",
    "       aes(x=Jahr,y=Korrelation, colour=Jahr)) + geom_smooth(method=\"loess\",se=F,colour=\"grey80\") +\n",
    "geom_point()+ scale_colour_viridis() + scale_y_continuous(limits=c(-1,0)) + theme_minimal() +\n",
    "labs(y=\"\",title=\"Korrelationskoeffizient \\n nach Pearson r=\")"
   ]
  },
  {
   "cell_type": "markdown",
   "metadata": {},
   "source": [
    "# Anpassungsgüte"
   ]
  },
  {
   "cell_type": "code",
   "execution_count": 102,
   "metadata": {
    "collapsed": false
   },
   "outputs": [
    {
     "data": {},
     "metadata": {},
     "output_type": "display_data"
    },
    {
     "data": {
      "image/png": "[encoded data removed]",
      "text/plain": [
       "plot without title"
      ]
     },
     "metadata": {},
     "output_type": "display_data"
    }
   ],
   "source": [
    "ggplot(Comparison %>% group_by(Jahr) %>% summarise(Varianzaufklärung = (cor(Steuereinnahmen_pro_EW,GISD_Score)^2)*100),\n",
    "       aes(x=Jahr,y=Varianzaufklärung, colour=Jahr)) +\n",
    "geom_smooth(method=\"loess\",se=F,colour=\"grey80\") + labs(y=\"\", title=\"Varianzaufklärung in %\") +\n",
    "geom_point()+ scale_colour_viridis() + theme_minimal() + scale_y_continuous(limits=c(0,100))"
   ]
  },
  {
   "cell_type": "markdown",
   "metadata": {},
   "source": [
    "# Fazit\n",
    "Zwischen den Steuereinnahmen der Gemeindeverbände und der über den GISD approximierten Sozialstruktur der Gemeinden besteht ein starker Zusammenhang, allerdings ist die Varianzaufklärung der Gemeindefinanzen durch den GISD nur mäßig. Gründe dafür dass GISD die Steuereinnahmen nicht besser erklärt sind etwa:\n",
    "* **Konjunktureffekte** \n",
    "\n",
    "    Das Steueraufkommen varriert in Abhängigkeit von der konjunkturellen Lage. Tendenziell ist anzunehmen, dass die Bedeutung der Einkommenssteuer und damit der Anteil der Löhne am gesamten Steueraufkommen in Phasen der Rezession höher ist als in konjunkturellen Hochphasen, in denen auch eine stärkere Bautätigkeit Treiber der Einnahmen und höhere Gewerbeeinnahmen vorliegen. \n",
    "    \n",
    "    \n",
    "* **Komponenten der Gemeindefinanzen** \n",
    "\n",
    "    Die Steuereinnahmen der Gemeinden speisen sich aus folgenden Quellen: Grundsteuer A und B + Gewerbesteuer + Einkommensteuer + Umsatzsteuer + sonstige Gemeindesteuer (Vergnügungssteuer, Hundesteuer, Getränkesteuer usw.) - Gewerbesteuerumlage. Lediglich die Einkommenssteuer ist dabei direkt mit der Sozialstruktur assoziiert und geht auch in die Konstruktion des GISD ein. Die übrigen Steuerarten weisen dagegen nur indirekte Verbindungen zur Sozialstruktur auf."
   ]
  },
  {
   "cell_type": "code",
   "execution_count": null,
   "metadata": {
    "collapsed": true
   },
   "outputs": [],
   "source": []
  }
 ],
 "metadata": {
  "anaconda-cloud": {},
  "kernelspec": {
   "display_name": "R",
   "language": "R",
   "name": "ir"
  },
  "language_info": {
   "codemirror_mode": "r",
   "file_extension": ".r",
   "mimetype": "text/x-r-source",
   "name": "R",
   "pygments_lexer": "r",
   "version": "3.4.4"
  }
 },
 "nbformat": 4,
 "nbformat_minor": 0
}
